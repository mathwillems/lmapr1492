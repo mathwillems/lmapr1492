{
 "cells": [
  {
   "cell_type": "code",
   "execution_count": 20,
   "id": "e090f3ae",
   "metadata": {},
   "outputs": [
    {
     "data": {
      "application/vnd.jupyter.widget-view+json": {
       "model_id": "ad38d6df2f794acb8a5f6b8246404310",
       "version_major": 2,
       "version_minor": 0
      },
      "text/plain": [
       "Retrieving MaterialsDoc documents:   0%|          | 0/1 [00:00<?, ?it/s]"
      ]
     },
     "metadata": {},
     "output_type": "display_data"
    }
   ],
   "source": [
    "# téléchargement\n",
    "\n",
    "from pymatgen.symmetry import analyzer as az\n",
    "from pymatgen.ext.matproj import MPRester\n",
    "import numpy as np\n",
    "from IPython.display import Image\n",
    "from pymatgen.symmetry.analyzer import *\n",
    "from pymatgen.io.cif import *\n",
    "from pymatgen.core.operations import *\n",
    "from pymatgen.symmetry.site_symmetries import *\n",
    "import matplotlib.pyplot as plt\n",
    "import matplotlib.image as img\n",
    "\n",
    "\n",
    "with MPRester(cle_utilisateur) as m:\n",
    "    structure = m.get_structure_by_material_id(cle_materiau)\n",
    "    structure = az.SpacegroupAnalyzer(structure).get_primitive_standard_structure()\n",
    "    "
   ]
  },
  {
   "cell_type": "code",
   "execution_count": 21,
   "id": "071aa955",
   "metadata": {},
   "outputs": [],
   "source": [
    "# paramètres : je les ai réunis ici afin d'avoir un code 'modulaire' : on peut choisir ce qu'on veut\n",
    "# observer en fonction de paramètres listés ici\n",
    "\n",
    "# pour le choix du matériau\n",
    "cle_materiau = \"mp-28554\"\n",
    "\n",
    "# propre à l'utilisateur\n",
    "cle_utilisateur = \"rEVEIFsc61iExKZbJ2QyepniwSgJ1m6W\"\n",
    "\n",
    "# le nombre de décimales qu'on veut voir pour les valeurs chiffrées\n",
    "dec = 4"
   ]
  },
  {
   "cell_type": "markdown",
   "id": "fd10de59",
   "metadata": {},
   "source": [
    "# 3 éléments de symétrie différents"
   ]
  },
  {
   "cell_type": "code",
   "execution_count": 22,
   "id": "b8f57c99",
   "metadata": {},
   "outputs": [],
   "source": [
    "def give_coord(A):\n",
    "    \"\"\"\n",
    "    détermine les nouvelles coordonnées d'un point (x,y,z)\n",
    "    en fonction de la matrice de rotation A:\n",
    "    \n",
    "    A_ij appartient a {1,0,-1}\n",
    "    \n",
    "                    1 0 0\n",
    "    résultat si A = 0 1 0  : ['x','y','z']\n",
    "                    0 0 1\n",
    "    \"\"\"\n",
    "    x = ['x','y','z']\n",
    "    y = ['']*3\n",
    "    index = [0,1,2] \n",
    "    for i in index:\n",
    "        for j in index:\n",
    "            if A[i][j] == 1:\n",
    "                if y[j] == '':\n",
    "                    y[j] = x[i]\n",
    "                else :\n",
    "                    y[j] += '+'+x[i]\n",
    "                \n",
    "            if A[i][j] == -1:\n",
    "                y[j] += '-'+ x[i]\n",
    "    return y\n"
   ]
  },
  {
   "cell_type": "code",
   "execution_count": 23,
   "id": "c3e2d9a1",
   "metadata": {},
   "outputs": [
    {
     "name": "stdout",
     "output_type": "stream",
     "text": [
      "\n",
      "Positions des 3 atomes différents\n",
      "\n",
      "position de l'atome \"Ca\" : [0.     0.     0.2313]\n",
      "position de l'atome \"As\" : [0.3333 0.6667 0.1667]\n",
      "position de l'atome \"I\" : [0. 0. 0.]\n",
      "\n",
      "\n",
      "symétrie 1:\n",
      "\n",
      "matrice de rotation :\n",
      "[[ 0. -1.  0.]\n",
      " [-1.  0.  0.]\n",
      " [ 0.  0.  1.]]\n",
      "\n",
      "['-y', '-x', 'z']\n",
      "\n",
      "vecteur de translation : [0. 0. 0.]\n",
      "\n",
      "\n",
      "\n",
      "symétrie 2:\n",
      "\n",
      "matrice de rotation :\n",
      "[[1. 0. 0.]\n",
      " [0. 1. 0.]\n",
      " [0. 0. 1.]]\n",
      "\n",
      "['x', 'y', 'z']\n",
      "\n",
      "vecteur de translation : [0.6667 0.3333 0.3333]\n",
      "\n",
      "\n",
      "\n",
      "symétrie 3:\n",
      "\n",
      "matrice de rotation :\n",
      "[[-1.  0.  0.]\n",
      " [ 0. -1.  0.]\n",
      " [ 0.  0. -1.]]\n",
      "\n",
      "['-x', '-y', '-z']\n",
      "\n",
      "vecteur de translation : [0.3333 0.6667 0.6667]\n",
      "\n"
     ]
    }
   ],
   "source": [
    "an = az.SpacegroupAnalyzer(structure)\n",
    "structure = an.get_conventional_standard_structure()\n",
    "an = az.SpacegroupAnalyzer(structure)\n",
    "\n",
    "\n",
    "# on récupère les informations de site sur 3 atomes différents\n",
    "all_sites = structure.sites\n",
    "sites = [all_sites[1], all_sites[6], all_sites[9]]\n",
    "\n",
    "print(\"\\nPositions des 3 atomes différents\\n\")\n",
    "\n",
    "for site in sites:\n",
    "    print('position de l\\'atome \"'+str(site.specie)+'\" : '+str(np.around(site.frac_coords,dec)))\n",
    "    \n",
    "\n",
    "# on prend 3 opérations de symétries différentes de l'identité et qui ne sont pas l'opposé d'une opération déjà utilisée\n",
    "all_symetries = an.get_symmetry_operations()\n",
    "symetries = [all_symetries[7], all_symetries[12], all_symetries[25]]\n",
    "\n",
    "\n",
    "# on fait un bel affichage\n",
    "i = 0\n",
    "for s in symetries :\n",
    "    i+=1 \n",
    "    rot_matrix = s.rotation_matrix\n",
    "    tr_vector = s.translation_vector\n",
    "    \n",
    "    print('\\n\\nsymétrie '+str(i)+':'+\"\\n\")\n",
    "    print('matrice de rotation :')\n",
    "    print(np.around(rot_matrix),end='\\n\\n')\n",
    "    print(give_coord(rot_matrix))\n",
    "    print('\\nvecteur de translation : '+str(np.around(tr_vector,dec))+'\\n')\n",
    "    \n",
    "    for site in sites :\n",
    "        new_coord = np.dot(site.frac_coords, rot_matrix)+tr_vector\n",
    "        \n",
    "\n"
   ]
  },
  {
   "cell_type": "markdown",
   "id": "5abe4f38",
   "metadata": {},
   "source": [
    "# Modélisation de la structure du matériaux "
   ]
  },
  {
   "cell_type": "markdown",
   "id": "ad31ea60",
   "metadata": {},
   "source": [
    "## Structure initial"
   ]
  },
  {
   "cell_type": "code",
   "execution_count": 24,
   "id": "9524a3a8",
   "metadata": {},
   "outputs": [],
   "source": [
    "from jupyter_jsmol import JsmolView\n",
    "from ipywidgets import Layout, widgets, interact\n",
    "from pymatgen.core.structure import Structure\n",
    "structure_transformed = structure.copy()\n",
    "for site, sym_op in zip(sites, symetries):\n",
    "    new_pos = sym_op.operate(site.frac_coords)\n",
    "    structure_transformed.append(site.specie, new_pos, coords_are_cartesian=False)\n",
    "CifWriter(structure_transformed).write_file(\"transformed_structure.cif\")\n"
   ]
  },
  {
   "cell_type": "code",
   "execution_count": 25,
   "id": "c35971e3",
   "metadata": {},
   "outputs": [
    {
     "data": {
      "application/vnd.jupyter.widget-view+json": {
       "model_id": "36761343eeaf4479990e2408e7be9074",
       "version_major": 2,
       "version_minor": 0
      },
      "text/plain": [
       "JsmolView(layout=Layout(align_self='stretch', height='400px'))"
      ]
     },
     "execution_count": 25,
     "metadata": {},
     "output_type": "execute_result"
    }
   ],
   "source": [
    "view1 = JsmolView.from_file(\"mp-28554.cif\", inline=True) \n",
    "view1"
   ]
  },
  {
   "cell_type": "code",
   "execution_count": 26,
   "id": "22a68f86",
   "metadata": {},
   "outputs": [
    {
     "data": {
      "application/vnd.jupyter.widget-view+json": {
       "model_id": "902de5717e324764b84d04e3c4410999",
       "version_major": 2,
       "version_minor": 0
      },
      "text/plain": [
       "JsmolView(layout=Layout(align_self='stretch', height='400px'))"
      ]
     },
     "execution_count": 26,
     "metadata": {},
     "output_type": "execute_result"
    }
   ],
   "source": [
    "view2 = JsmolView.from_file(\"transformed_structure.cif\", inline=True)\n",
    "view2\n"
   ]
  },
  {
   "cell_type": "code",
   "execution_count": null,
   "id": "b521d508",
   "metadata": {},
   "outputs": [],
   "source": []
  }
 ],
 "metadata": {
  "kernelspec": {
   "display_name": "Python 3 (ipykernel)",
   "language": "python",
   "name": "python3"
  },
  "language_info": {
   "codemirror_mode": {
    "name": "ipython",
    "version": 3
   },
   "file_extension": ".py",
   "mimetype": "text/x-python",
   "name": "python",
   "nbconvert_exporter": "python",
   "pygments_lexer": "ipython3",
   "version": "3.9.13"
  }
 },
 "nbformat": 4,
 "nbformat_minor": 5
}
