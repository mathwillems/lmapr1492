{
 "cells": [
  {
   "cell_type": "code",
   "execution_count": 1,
   "id": "5afcbec9",
   "metadata": {},
   "outputs": [],
   "source": [
    "# paramètres : je les ai réunis ici afin d'avoir un code 'modulaire' : on peut choisir ce qu'on veut\n",
    "# observer en fonction de paramètres listés ici\n",
    "\n",
    "# pour le choix du matériau\n",
    "cle_materiau = \"mp-28554\"\n",
    "\n",
    "# propre à l'utilisateur\n",
    "cle_utilisateur = \"rEVEIFsc61iExKZbJ2QyepniwSgJ1m6W\"\n",
    "\n",
    "# le nombre de décimales qu'on veut voir pour les valeurs chiffrées\n",
    "dec = 4"
   ]
  },
  {
   "cell_type": "code",
   "execution_count": 2,
   "id": "156ef568",
   "metadata": {},
   "outputs": [
    {
     "data": {
      "application/vnd.jupyter.widget-view+json": {
       "model_id": "ce8cb2a54d9f497caeb409fce24c2e53",
       "version_major": 2,
       "version_minor": 0
      },
      "text/plain": [
       "Retrieving MaterialsDoc documents:   0%|          | 0/1 [00:00<?, ?it/s]"
      ]
     },
     "metadata": {},
     "output_type": "display_data"
    }
   ],
   "source": [
    "# téléchargement\n",
    "\n",
    "from pymatgen.symmetry import analyzer as az\n",
    "from pymatgen.ext.matproj import MPRester\n",
    "from numpy import around\n",
    "\n",
    "with MPRester(cle_utilisateur) as m:\n",
    "    structure = m.get_structure_by_material_id(cle_materiau)"
   ]
  },
  {
   "cell_type": "code",
   "execution_count": 3,
   "id": "f8fcd594",
   "metadata": {},
   "outputs": [
    {
     "name": "stdout",
     "output_type": "stream",
     "text": [
      "vecteurs du reseau de base :\n",
      "[7.8714 7.8714 7.8714] [ångström] \n",
      "angles :\n",
      "[32.4335 32.4335 32.4335] [ångström] \n",
      "\n",
      "vecteurs du reseau reciproque :\n",
      "[117.2391 117.2391 117.2391] [ångström] \n",
      "angles :\n",
      "[117.2391 117.2391 117.2391] [ångström] \n"
     ]
    }
   ],
   "source": [
    "# on recupere les vecteurs de base, décrits via leurs angles et longueurs, pour la maille réciproque et la maille directe\n",
    "\n",
    "# la structure qu'on va utiliser est une cellule primitive définie selon les principes de Setyawan, W., & Curtarolo, S. (2010)\n",
    "# (information trouvée dans la documentation pymatgen)\n",
    "structure = az.SpacegroupAnalyzer(structure).get_primitive_standard_structure()\n",
    "\n",
    "maille = structure.lattice\n",
    "maille_reciproque = maille.reciprocal_lattice\n",
    "\n",
    "# on imprime les résultats\n",
    "print('vecteurs du reseau de base :')\n",
    "print(str(around(maille.abc,dec))+' [ångström] ')\n",
    "print('angles :')\n",
    "print(str(around(maille.angles,dec))+' [ångström] ')\n",
    "print('\\nvecteurs du reseau reciproque :')\n",
    "print(str(around(maille_reciproque.angles,dec))+' [ångström] ')\n",
    "print('angles :')\n",
    "print(str(around(maille_reciproque.angles,dec))+' [ångström] ')"
   ]
  },
  {
   "cell_type": "code",
   "execution_count": 4,
   "id": "42d7a205",
   "metadata": {},
   "outputs": [
    {
     "name": "stdout",
     "output_type": "stream",
     "text": [
      "systeme crystallin :\n",
      "trigonal\n",
      "\n",
      "groupe ponctuel :\n",
      "-3m\n",
      "\n",
      "type de maille :\n",
      "rhombohedral\n"
     ]
    }
   ],
   "source": [
    "# on recupere le systeme crystallin, le groupe ponctuel et le type de maille\n",
    "\n",
    "an = az.SpacegroupAnalyzer(structure)\n",
    "\n",
    "print('systeme crystallin :')\n",
    "print(an.get_crystal_system())\n",
    "print('\\ngroupe ponctuel :')\n",
    "print(an.get_point_group_symbol())\n",
    "print('\\ntype de maille :')\n",
    "print(an.get_lattice_type())"
   ]
  },
  {
   "cell_type": "code",
   "execution_count": null,
   "id": "55fc4986",
   "metadata": {},
   "outputs": [],
   "source": []
  }
 ],
 "metadata": {
  "kernelspec": {
   "display_name": "Python 3 (ipykernel)",
   "language": "python",
   "name": "python3"
  },
  "language_info": {
   "codemirror_mode": {
    "name": "ipython",
    "version": 3
   },
   "file_extension": ".py",
   "mimetype": "text/x-python",
   "name": "python",
   "nbconvert_exporter": "python",
   "pygments_lexer": "ipython3",
   "version": "3.9.13"
  }
 },
 "nbformat": 4,
 "nbformat_minor": 5
}
